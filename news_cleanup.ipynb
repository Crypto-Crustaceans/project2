{
 "cells": [
  {
   "cell_type": "code",
   "execution_count": 63,
   "source": [
    "# import libaries\n",
    "import pandas as pd\n",
    "import string"
   ],
   "outputs": [],
   "metadata": {}
  },
  {
   "cell_type": "code",
   "execution_count": 64,
   "source": [
    "# read in csv\n",
    "df = pd.read_csv(\"analyst_ratings_processed.csv\")\n",
    "\n",
    "df['title'].count"
   ],
   "outputs": [
    {
     "output_type": "execute_result",
     "data": {
      "text/plain": [
       "<bound method Series.count of 0                    Stocks That Hit 52-Week Highs On Friday\n",
       "1                 Stocks That Hit 52-Week Highs On Wednesday\n",
       "2                              71 Biggest Movers From Friday\n",
       "3               46 Stocks Moving In Friday's Mid-Day Session\n",
       "4          B of A Securities Maintains Neutral on Agilent...\n",
       "                                 ...                        \n",
       "1400464               Top Narrow Based Indexes For August 29\n",
       "1400465    Recap: Wednesday's Top Percentage Gainers and ...\n",
       "1400466    UPDATE: Oppenheimer Color on China Zenix Auto ...\n",
       "1400467    Oppenheimer Initiates China Zenix At Outperfor...\n",
       "1400468    China Zenix Auto International Opens For Tradi...\n",
       "Name: title, Length: 1400469, dtype: object>"
      ]
     },
     "metadata": {},
     "execution_count": 64
    }
   ],
   "metadata": {
    "scrolled": true
   }
  },
  {
   "cell_type": "code",
   "execution_count": 65,
   "source": [
    "df.dropna(axis=0, how='any', inplace=True)\n",
    "\n",
    "df['title'].count"
   ],
   "outputs": [
    {
     "output_type": "execute_result",
     "data": {
      "text/plain": [
       "<bound method Series.count of 0                    Stocks That Hit 52-Week Highs On Friday\n",
       "1                 Stocks That Hit 52-Week Highs On Wednesday\n",
       "2                              71 Biggest Movers From Friday\n",
       "3               46 Stocks Moving In Friday's Mid-Day Session\n",
       "4          B of A Securities Maintains Neutral on Agilent...\n",
       "                                 ...                        \n",
       "1400464               Top Narrow Based Indexes For August 29\n",
       "1400465    Recap: Wednesday's Top Percentage Gainers and ...\n",
       "1400466    UPDATE: Oppenheimer Color on China Zenix Auto ...\n",
       "1400467    Oppenheimer Initiates China Zenix At Outperfor...\n",
       "1400468    China Zenix Auto International Opens For Tradi...\n",
       "Name: title, Length: 1397891, dtype: object>"
      ]
     },
     "metadata": {},
     "execution_count": 65
    }
   ],
   "metadata": {
    "scrolled": true
   }
  },
  {
   "cell_type": "code",
   "execution_count": 66,
   "source": [
    "df = df.drop_duplicates('title', keep=False)\n",
    "\n",
    "df['title'].count"
   ],
   "outputs": [
    {
     "output_type": "execute_result",
     "data": {
      "text/plain": [
       "<bound method Series.count of 4          B of A Securities Maintains Neutral on Agilent...\n",
       "5          CFRA Maintains Hold on Agilent Technologies, L...\n",
       "8          Wells Fargo Maintains Overweight on Agilent Te...\n",
       "11         SVB Leerink Maintains Outperform on Agilent Te...\n",
       "14         Agilent Technologies Q2 Adj. EPS $0.71 Beats $...\n",
       "                                 ...                        \n",
       "1400463    China Zenix Auto International Selected as Exc...\n",
       "1400464               Top Narrow Based Indexes For August 29\n",
       "1400466    UPDATE: Oppenheimer Color on China Zenix Auto ...\n",
       "1400467    Oppenheimer Initiates China Zenix At Outperfor...\n",
       "1400468    China Zenix Auto International Opens For Tradi...\n",
       "Name: title, Length: 714728, dtype: object>"
      ]
     },
     "metadata": {},
     "execution_count": 66
    }
   ],
   "metadata": {}
  },
  {
   "cell_type": "code",
   "execution_count": 67,
   "source": [
    "df.head()"
   ],
   "outputs": [
    {
     "output_type": "execute_result",
     "data": {
      "text/plain": [
       "    Unnamed: 0                                              title  \\\n",
       "4          4.0  B of A Securities Maintains Neutral on Agilent...   \n",
       "5          5.0  CFRA Maintains Hold on Agilent Technologies, L...   \n",
       "8          8.0  Wells Fargo Maintains Overweight on Agilent Te...   \n",
       "11        11.0  SVB Leerink Maintains Outperform on Agilent Te...   \n",
       "14        14.0  Agilent Technologies Q2 Adj. EPS $0.71 Beats $...   \n",
       "\n",
       "                         date stock  \n",
       "4   2020-05-22 11:38:00-04:00     A  \n",
       "5   2020-05-22 11:23:00-04:00     A  \n",
       "8   2020-05-22 08:37:00-04:00     A  \n",
       "11  2020-05-22 05:14:00-04:00     A  \n",
       "14  2020-05-21 16:06:00-04:00     A  "
      ],
      "text/html": [
       "<div>\n",
       "<style scoped>\n",
       "    .dataframe tbody tr th:only-of-type {\n",
       "        vertical-align: middle;\n",
       "    }\n",
       "\n",
       "    .dataframe tbody tr th {\n",
       "        vertical-align: top;\n",
       "    }\n",
       "\n",
       "    .dataframe thead th {\n",
       "        text-align: right;\n",
       "    }\n",
       "</style>\n",
       "<table border=\"1\" class=\"dataframe\">\n",
       "  <thead>\n",
       "    <tr style=\"text-align: right;\">\n",
       "      <th></th>\n",
       "      <th>Unnamed: 0</th>\n",
       "      <th>title</th>\n",
       "      <th>date</th>\n",
       "      <th>stock</th>\n",
       "    </tr>\n",
       "  </thead>\n",
       "  <tbody>\n",
       "    <tr>\n",
       "      <th>4</th>\n",
       "      <td>4.0</td>\n",
       "      <td>B of A Securities Maintains Neutral on Agilent...</td>\n",
       "      <td>2020-05-22 11:38:00-04:00</td>\n",
       "      <td>A</td>\n",
       "    </tr>\n",
       "    <tr>\n",
       "      <th>5</th>\n",
       "      <td>5.0</td>\n",
       "      <td>CFRA Maintains Hold on Agilent Technologies, L...</td>\n",
       "      <td>2020-05-22 11:23:00-04:00</td>\n",
       "      <td>A</td>\n",
       "    </tr>\n",
       "    <tr>\n",
       "      <th>8</th>\n",
       "      <td>8.0</td>\n",
       "      <td>Wells Fargo Maintains Overweight on Agilent Te...</td>\n",
       "      <td>2020-05-22 08:37:00-04:00</td>\n",
       "      <td>A</td>\n",
       "    </tr>\n",
       "    <tr>\n",
       "      <th>11</th>\n",
       "      <td>11.0</td>\n",
       "      <td>SVB Leerink Maintains Outperform on Agilent Te...</td>\n",
       "      <td>2020-05-22 05:14:00-04:00</td>\n",
       "      <td>A</td>\n",
       "    </tr>\n",
       "    <tr>\n",
       "      <th>14</th>\n",
       "      <td>14.0</td>\n",
       "      <td>Agilent Technologies Q2 Adj. EPS $0.71 Beats $...</td>\n",
       "      <td>2020-05-21 16:06:00-04:00</td>\n",
       "      <td>A</td>\n",
       "    </tr>\n",
       "  </tbody>\n",
       "</table>\n",
       "</div>"
      ]
     },
     "metadata": {},
     "execution_count": 67
    }
   ],
   "metadata": {
    "scrolled": true
   }
  },
  {
   "cell_type": "code",
   "execution_count": 68,
   "source": [
    "del df['Unnamed: 0']\n",
    "\n",
    "df.head()"
   ],
   "outputs": [
    {
     "output_type": "execute_result",
     "data": {
      "text/plain": [
       "                                                title  \\\n",
       "4   B of A Securities Maintains Neutral on Agilent...   \n",
       "5   CFRA Maintains Hold on Agilent Technologies, L...   \n",
       "8   Wells Fargo Maintains Overweight on Agilent Te...   \n",
       "11  SVB Leerink Maintains Outperform on Agilent Te...   \n",
       "14  Agilent Technologies Q2 Adj. EPS $0.71 Beats $...   \n",
       "\n",
       "                         date stock  \n",
       "4   2020-05-22 11:38:00-04:00     A  \n",
       "5   2020-05-22 11:23:00-04:00     A  \n",
       "8   2020-05-22 08:37:00-04:00     A  \n",
       "11  2020-05-22 05:14:00-04:00     A  \n",
       "14  2020-05-21 16:06:00-04:00     A  "
      ],
      "text/html": [
       "<div>\n",
       "<style scoped>\n",
       "    .dataframe tbody tr th:only-of-type {\n",
       "        vertical-align: middle;\n",
       "    }\n",
       "\n",
       "    .dataframe tbody tr th {\n",
       "        vertical-align: top;\n",
       "    }\n",
       "\n",
       "    .dataframe thead th {\n",
       "        text-align: right;\n",
       "    }\n",
       "</style>\n",
       "<table border=\"1\" class=\"dataframe\">\n",
       "  <thead>\n",
       "    <tr style=\"text-align: right;\">\n",
       "      <th></th>\n",
       "      <th>title</th>\n",
       "      <th>date</th>\n",
       "      <th>stock</th>\n",
       "    </tr>\n",
       "  </thead>\n",
       "  <tbody>\n",
       "    <tr>\n",
       "      <th>4</th>\n",
       "      <td>B of A Securities Maintains Neutral on Agilent...</td>\n",
       "      <td>2020-05-22 11:38:00-04:00</td>\n",
       "      <td>A</td>\n",
       "    </tr>\n",
       "    <tr>\n",
       "      <th>5</th>\n",
       "      <td>CFRA Maintains Hold on Agilent Technologies, L...</td>\n",
       "      <td>2020-05-22 11:23:00-04:00</td>\n",
       "      <td>A</td>\n",
       "    </tr>\n",
       "    <tr>\n",
       "      <th>8</th>\n",
       "      <td>Wells Fargo Maintains Overweight on Agilent Te...</td>\n",
       "      <td>2020-05-22 08:37:00-04:00</td>\n",
       "      <td>A</td>\n",
       "    </tr>\n",
       "    <tr>\n",
       "      <th>11</th>\n",
       "      <td>SVB Leerink Maintains Outperform on Agilent Te...</td>\n",
       "      <td>2020-05-22 05:14:00-04:00</td>\n",
       "      <td>A</td>\n",
       "    </tr>\n",
       "    <tr>\n",
       "      <th>14</th>\n",
       "      <td>Agilent Technologies Q2 Adj. EPS $0.71 Beats $...</td>\n",
       "      <td>2020-05-21 16:06:00-04:00</td>\n",
       "      <td>A</td>\n",
       "    </tr>\n",
       "  </tbody>\n",
       "</table>\n",
       "</div>"
      ]
     },
     "metadata": {},
     "execution_count": 68
    }
   ],
   "metadata": {
    "scrolled": true
   }
  },
  {
   "cell_type": "code",
   "execution_count": 69,
   "source": [
    "df.reset_index(inplace=True, drop=True)\n",
    "\n",
    "df.head()"
   ],
   "outputs": [
    {
     "output_type": "execute_result",
     "data": {
      "text/plain": [
       "                                               title  \\\n",
       "0  B of A Securities Maintains Neutral on Agilent...   \n",
       "1  CFRA Maintains Hold on Agilent Technologies, L...   \n",
       "2  Wells Fargo Maintains Overweight on Agilent Te...   \n",
       "3  SVB Leerink Maintains Outperform on Agilent Te...   \n",
       "4  Agilent Technologies Q2 Adj. EPS $0.71 Beats $...   \n",
       "\n",
       "                        date stock  \n",
       "0  2020-05-22 11:38:00-04:00     A  \n",
       "1  2020-05-22 11:23:00-04:00     A  \n",
       "2  2020-05-22 08:37:00-04:00     A  \n",
       "3  2020-05-22 05:14:00-04:00     A  \n",
       "4  2020-05-21 16:06:00-04:00     A  "
      ],
      "text/html": [
       "<div>\n",
       "<style scoped>\n",
       "    .dataframe tbody tr th:only-of-type {\n",
       "        vertical-align: middle;\n",
       "    }\n",
       "\n",
       "    .dataframe tbody tr th {\n",
       "        vertical-align: top;\n",
       "    }\n",
       "\n",
       "    .dataframe thead th {\n",
       "        text-align: right;\n",
       "    }\n",
       "</style>\n",
       "<table border=\"1\" class=\"dataframe\">\n",
       "  <thead>\n",
       "    <tr style=\"text-align: right;\">\n",
       "      <th></th>\n",
       "      <th>title</th>\n",
       "      <th>date</th>\n",
       "      <th>stock</th>\n",
       "    </tr>\n",
       "  </thead>\n",
       "  <tbody>\n",
       "    <tr>\n",
       "      <th>0</th>\n",
       "      <td>B of A Securities Maintains Neutral on Agilent...</td>\n",
       "      <td>2020-05-22 11:38:00-04:00</td>\n",
       "      <td>A</td>\n",
       "    </tr>\n",
       "    <tr>\n",
       "      <th>1</th>\n",
       "      <td>CFRA Maintains Hold on Agilent Technologies, L...</td>\n",
       "      <td>2020-05-22 11:23:00-04:00</td>\n",
       "      <td>A</td>\n",
       "    </tr>\n",
       "    <tr>\n",
       "      <th>2</th>\n",
       "      <td>Wells Fargo Maintains Overweight on Agilent Te...</td>\n",
       "      <td>2020-05-22 08:37:00-04:00</td>\n",
       "      <td>A</td>\n",
       "    </tr>\n",
       "    <tr>\n",
       "      <th>3</th>\n",
       "      <td>SVB Leerink Maintains Outperform on Agilent Te...</td>\n",
       "      <td>2020-05-22 05:14:00-04:00</td>\n",
       "      <td>A</td>\n",
       "    </tr>\n",
       "    <tr>\n",
       "      <th>4</th>\n",
       "      <td>Agilent Technologies Q2 Adj. EPS $0.71 Beats $...</td>\n",
       "      <td>2020-05-21 16:06:00-04:00</td>\n",
       "      <td>A</td>\n",
       "    </tr>\n",
       "  </tbody>\n",
       "</table>\n",
       "</div>"
      ]
     },
     "metadata": {},
     "execution_count": 69
    }
   ],
   "metadata": {}
  },
  {
   "cell_type": "code",
   "execution_count": 70,
   "source": [
    "# reset index, set as id, which will be pk for sql\n",
    "# preproccessing on title and concanetae index to feed to finbert\n",
    "# first sql table will have title and sentiment\n",
    "# second sql table will have date and stock"
   ],
   "outputs": [],
   "metadata": {}
  },
  {
   "cell_type": "code",
   "execution_count": 71,
   "source": [
    "punct_list = string.punctuation\n",
    "titles_clean = []\n",
    "for index, title in enumerate(df['title']):\n",
    "    for punct in punct_list:\n",
    "        if punct in title:\n",
    "            title = title.replace(punct, '')\n",
    "    title = title.replace('  ', ' ')\n",
    "    title = title.lower().strip()\n",
    "    title = str(df.index[index]) + \"| \" + title + '.'\n",
    "    titles_clean.append(title)\n",
    "\n"
   ],
   "outputs": [],
   "metadata": {}
  },
  {
   "cell_type": "code",
   "execution_count": 72,
   "source": [
    "titles_clean[0:10]"
   ],
   "outputs": [
    {
     "output_type": "execute_result",
     "data": {
      "text/plain": [
       "['0| b of a securities maintains neutral on agilent technologies raises price target to 88.',\n",
       " '1| cfra maintains hold on agilent technologies lowers price target to 85.',\n",
       " '2| wells fargo maintains overweight on agilent technologies raises price target to 95.',\n",
       " '3| svb leerink maintains outperform on agilent technologies raises price target to 95.',\n",
       " '4| agilent technologies q2 adj eps 071 beats 061 estimate sales 124b beat 121b estimate.',\n",
       " '5| agilent technologies receives fda approval for pdl1 as a companion diagnostic.',\n",
       " '6| pershing square 13f shows fund raises stake in agilent technologies to 12626593 shares.',\n",
       " '7| ubs maintains neutral on agilent technologies lowers price target to 84.',\n",
       " '8| agilent reports fda approval for pdl1 companion diagnostic on dako omni.',\n",
       " '9| agilent reports has become toplevel sponsor of my green lab.']"
      ]
     },
     "metadata": {},
     "execution_count": 72
    }
   ],
   "metadata": {}
  },
  {
   "cell_type": "code",
   "execution_count": 76,
   "source": [
    "titles_decoded = []\n",
    "for title in titles_clean:\n",
    "    title = title.encode(encoding='cp1252', errors=\"ignore\")\n",
    "    title = title.decode(encoding='cp1252')\n",
    "    title = title.encode(encoding='ascii', errors=\"ignore\")\n",
    "    title = title.decode(encoding='ascii')\n",
    "    title = title.encode(encoding='utf8', errors=\"ignore\")\n",
    "    title = title.decode(encoding='utf8')\n",
    "    titles_decoded.append(title)\n"
   ],
   "outputs": [],
   "metadata": {}
  },
  {
   "cell_type": "code",
   "execution_count": 78,
   "source": [
    "titles_decoded[0:10]"
   ],
   "outputs": [
    {
     "output_type": "execute_result",
     "data": {
      "text/plain": [
       "['0| b of a securities maintains neutral on agilent technologies raises price target to 88.',\n",
       " '1| cfra maintains hold on agilent technologies lowers price target to 85.',\n",
       " '2| wells fargo maintains overweight on agilent technologies raises price target to 95.',\n",
       " '3| svb leerink maintains outperform on agilent technologies raises price target to 95.',\n",
       " '4| agilent technologies q2 adj eps 071 beats 061 estimate sales 124b beat 121b estimate.',\n",
       " '5| agilent technologies receives fda approval for pdl1 as a companion diagnostic.',\n",
       " '6| pershing square 13f shows fund raises stake in agilent technologies to 12626593 shares.',\n",
       " '7| ubs maintains neutral on agilent technologies lowers price target to 84.',\n",
       " '8| agilent reports fda approval for pdl1 companion diagnostic on dako omni.',\n",
       " '9| agilent reports has become toplevel sponsor of my green lab.']"
      ]
     },
     "metadata": {},
     "execution_count": 78
    }
   ],
   "metadata": {}
  },
  {
   "cell_type": "code",
   "execution_count": 79,
   "source": [
    "with open('titles_clean.txt', 'w') as text:\n",
    "    for title in titles_decoded:\n",
    "        text.write(title)\n",
    "        text.write('\\n')\n"
   ],
   "outputs": [],
   "metadata": {}
  }
 ],
 "metadata": {
  "kernelspec": {
   "name": "python3",
   "display_name": "Python 3.8.5 64-bit ('base': conda)"
  },
  "language_info": {
   "codemirror_mode": {
    "name": "ipython",
    "version": 3
   },
   "file_extension": ".py",
   "mimetype": "text/x-python",
   "name": "python",
   "nbconvert_exporter": "python",
   "pygments_lexer": "ipython3",
   "version": "3.8.5"
  },
  "interpreter": {
   "hash": "b9fcaa2e304a335d3fe45c4ee8d966e6c8e4dd2a130bbda9249490497712ada1"
  }
 },
 "nbformat": 4,
 "nbformat_minor": 4
}